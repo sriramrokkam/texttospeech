{
 "cells": [
  {
   "attachments": {},
   "cell_type": "markdown",
   "metadata": {},
   "source": [
    "Proof of Concept: Voice Assistant with Cognitive AI to help complete Warehouse Operations."
   ]
  },
  {
   "attachments": {},
   "cell_type": "markdown",
   "metadata": {},
   "source": [
    "Business Requirement:  \n",
    "1.  Get the input from User over microphone, to Text and interface with SAP EWM as input.\n",
    "2.  Voice request for  inputs and promots for Error for user corrections.\n",
    "3.  Train the AI model with L1/L2 Support, assisting the opertors \n",
    "    on realtime exception handling and workarounds."
   ]
  },
  {
   "attachments": {},
   "cell_type": "markdown",
   "metadata": {},
   "source": [
    "Developer           :   ROKKAMS(s.rokkam@sap.com).\n",
    "GitReposit         :   https://github.com/sriramrokkam/texttospeech"
   ]
  },
  {
   "attachments": {},
   "cell_type": "markdown",
   "metadata": {},
   "source": [
    "# Backend Technologies:  \n",
    "   1. Azure -Cognitive AI      for NLP Services\n",
    "   2. SAP S4 Embedded EWM 9.3   for Warehouse Operations.\n",
    "   3. SAP ABAP                  for Server Side Validation.\n",
    "    4. Python 3.3               for Client Side Validations\n",
    "#Integration Technologies:\n",
    "   1.Azure Event Hub\n",
    "   2.SAP ABAP Webhooks\n",
    "   3.Restful API's. \n",
    "                    \n",
    "#Frontend Technologies:\n",
    "   1. SAP AppGyver\n",
    "   2. Django / CSS / JS"
   ]
  },
  {
   "cell_type": "code",
   "execution_count": null,
   "metadata": {},
   "outputs": [],
   "source": [
    "\n",
    "# Import namespaces\n",
    "from dotenv import load_dotenv\n",
    "from datetime import datetime\n",
    "import os\n",
    "import azure.cognitiveservices.speech as speech_sdk\n"
   ]
  },
  {
   "cell_type": "code",
   "execution_count": null,
   "metadata": {},
   "outputs": [],
   "source": [
    "#Parent Class: Get keys from Azure\n",
    "GV_COGKEY = os.getenv('COG_SERVICE_KEY')\n",
    "GV_COGREG = os.getenv('COG_SERVICE_REGION')"
   ]
  },
  {
   "cell_type": "code",
   "execution_count": null,
   "metadata": {
    "tags": [
     "S2T"
    ]
   },
   "outputs": [],
   "source": [
    "# Inherit  Get_Azure_Keys to Speech to Text.\n",
    "class S2T(GV_COGKEY,GV_COGREG):\n",
    "    speech_config = ''\n",
    "    def config_speech(self):\n",
    "    # Configure speech service\n",
    "        speech_config = speech_sdk.SpeechConfig(GV_COGKEY, GV_COGREG)\n",
    "        print('Ready to use speech service in:', speech_config.region)\n",
    "\n",
    "obj_s2t = S2T(GV_COGKEY,GV_COGREG)\n",
    "obj_s2t.config_speech()\n",
    "print( obj_s2t.speech_config.region)"
   ]
  },
  {
   "attachments": {},
   "cell_type": "markdown",
   "metadata": {},
   "source": [
    "https://sapes5.sapdevcenter.com/sap/bc/gui/sap/its/webgui\n",
    "Username: I310202\n",
    "SR1@1234\n",
    "GET Restful API"
   ]
  },
  {
   "cell_type": "code",
   "execution_count": null,
   "metadata": {},
   "outputs": [],
   "source": []
  }
 ],
 "metadata": {
  "kernelspec": {
   "display_name": "Python 3",
   "language": "python",
   "name": "python3"
  },
  "language_info": {
   "codemirror_mode": {
    "name": "ipython",
    "version": 3
   },
   "file_extension": ".py",
   "mimetype": "text/x-python",
   "name": "python",
   "nbconvert_exporter": "python",
   "pygments_lexer": "ipython3",
   "version": "3.10.11"
  },
  "orig_nbformat": 4
 },
 "nbformat": 4,
 "nbformat_minor": 2
}
