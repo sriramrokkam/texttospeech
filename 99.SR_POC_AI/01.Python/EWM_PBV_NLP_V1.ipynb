{
 "cells": [
  {
   "attachments": {},
   "cell_type": "markdown",
   "metadata": {},
   "source": [
    "Proof of Concept: Voice Assistant with Cognitive AI to help complete Warehouse Operations."
   ]
  },
  {
   "attachments": {},
   "cell_type": "markdown",
   "metadata": {},
   "source": [
    "Business Requirement:  \n",
    "1.  Get the input from User over microphone, to Text and interface with SAP EWM as input.\n",
    "2.  Voice request for  inputs and promots for Error for user corrections.\n",
    "3.  Train the AI model with L1/L2 Support, assisting the opertors \n",
    "    on realtime exception handling and workarounds."
   ]
  },
  {
   "attachments": {},
   "cell_type": "markdown",
   "metadata": {},
   "source": [
    "Developer           :   ROKKAMS(s.rokkam@sap.com).\n",
    "GitReposit         :   https://github.com/sriramrokkam/texttospeech"
   ]
  },
  {
   "attachments": {},
   "cell_type": "markdown",
   "metadata": {},
   "source": [
    "# Backend Technologies:  \n",
    "   1. Azure -Cognitive AI      for NLP Services\n",
    "   2. SAP S4 Embedded EWM 9.3   for Warehouse Operations.\n",
    "   3. SAP ABAP                  for Server Side Validation.\n",
    "   4. Python 3.3               for Client Side Validations.\n",
    "   \n",
    "### Integration Technologies:\n",
    "   1. Azure Event Hub\n",
    "   2. SAP ABAP Webhooks\n",
    "   3. Restful API's. \n",
    "                    \n",
    "### Frontend Technologies:\n",
    "   1. SAP AppGyver\n",
    "   2. Django / CSS / JS"
   ]
  },
  {
   "cell_type": "code",
   "execution_count": 1,
   "metadata": {},
   "outputs": [],
   "source": [
    "# Import namespaces\n",
    "from dotenv import load_dotenv\n",
    "from datetime import datetime\n",
    "import os\n",
    "import azure.cognitiveservices.speech as speech_sdk\n"
   ]
  },
  {
   "cell_type": "code",
   "execution_count": 2,
   "metadata": {},
   "outputs": [],
   "source": [
    "#Global Keys: Get keys for Azure Cognitive AI\n",
    "GV_COGKEY = os.getenv('COG_SERVICE_KEY')\n",
    "GV_COGREG = os.getenv('COG_SERVICE_REGION')"
   ]
  },
  {
   "cell_type": "code",
   "execution_count": 9,
   "metadata": {
    "tags": [
     "S2T"
    ]
   },
   "outputs": [
    {
     "name": "stdout",
     "output_type": "stream",
     "text": [
      "Ready to use speech service in: eastasia\n",
      "<azure.cognitiveservices.speech.SpeechConfig object at 0x00000269863EAAA0>\n",
      "Speak now...\n",
      "Hello bawa aku chalu.\n"
     ]
    },
    {
     "data": {
      "text/plain": [
       "'Hello bawa aku chalu.'"
      ]
     },
     "execution_count": 9,
     "metadata": {},
     "output_type": "execute_result"
    }
   ],
   "source": [
    "# Class to Get Speech Config Parameters by passing keys.\n",
    "class S2T:\n",
    "    # Define Method: Configure speech service\n",
    "    # Pass the Global keys to Speech SDK and get Speech Config variables.\n",
    "     \n",
    "    def config_speech(self): \n",
    "        global speech_config\n",
    "        speech_config = speech_sdk.SpeechConfig(GV_COGKEY, GV_COGREG)\n",
    "        print('Ready to use speech service in:', speech_config.region)\n",
    "\n",
    "    # Define Method Transcribe Command\n",
    "\n",
    "    def TranscribeCommand(self):\n",
    "        print(speech_config)\n",
    "     # automatic language detection.\n",
    "        auto_detect_source_language_config = speech_sdk.languageconfig.AutoDetectSourceLanguageConfig()\n",
    "    # Configure speech recognition\n",
    "        audio_config = speech_sdk.AudioConfig(use_default_microphone=True)\n",
    "        speech_recognizer = speech_sdk.SpeechRecognizer(speech_config, audio_config)  \n",
    "        print('Speak now...')\n",
    "\n",
    "    # Process speech input\n",
    "        speech = speech_recognizer.recognize_once_async().get()\n",
    "        if speech.reason == speech_sdk.ResultReason.RecognizedSpeech:\n",
    "             command = speech.text\n",
    "             print(command)\n",
    "        else:\n",
    "            print(speech.reason)\n",
    "\n",
    "    # Return the command\n",
    "        return command\n",
    "\n",
    "##Create Instance of the Speech Class\n",
    "obj_s2t = S2T()\n",
    "obj_s2t.config_speech() # Read Method config_speech\n",
    "obj_s2t.TranscribeCommand() # Transcribe Speech to Text"
   ]
  },
  {
   "cell_type": "code",
   "execution_count": 6,
   "metadata": {},
   "outputs": [
    {
     "name": "stdout",
     "output_type": "stream",
     "text": [
      "\n",
      " {'d': {'results': [{'__metadata': {'id': \"http://cc-45b4dscm.c.na-us-2.cloud.sap:8080/sap/opu/odata/SCWM/SIMPLE_INB_PO_SRV/DLVHeadSet(InboundDeliveryUUID=guid'fa163e3c-6395-1eeb-a6a2-7fce29d04d47',WarehouseNumber='')\", 'uri': \"http://cc-45b4dscm.c.na-us-2.cloud.sap:8080/sap/opu/odata/SCWM/SIMPLE_INB_PO_SRV/DLVHeadSet(InboundDeliveryUUID=guid'fa163e3c-6395-1eeb-a6a2-7fce29d04d47',WarehouseNumber='')\", 'type': 'SIMPLE_INB_PO_SRV.DLVHead'}, 'BSKeyASN': '', 'BSKeyPO': 'DSC_200', 'Carrier': '', 'CarrierName': '', 'DocNoASN': '', 'DocNoPO': '4500000010', 'BSKeyERP': 'DSC_200', 'DocNoERP': '180000027', 'GoodsReceiptStatus': '1', 'GoodsReceiptStatusText': 'Not Started', 'InboundDelivery': '61', 'InboundDeliveryType': 'INB', 'InboundDeliveryUUID': 'fa163e3c-6395-1eeb-a6a2-7fce29d04d47', 'NumberOfItems': 1, 'NumberOfPODocuments': 1, 'PlannedDeliveryEndDate': '/Date(1617926400000)/', 'ShipFromParty': 'EWM17-SU01', 'ShipFromPartyName': 'EWM Supplier 01', 'WarehouseNumber': '', 'POItems': {'__deferred': {'uri': \"http://cc-45b4dscm.c.na-us-2.cloud.sap:8080/sap/opu/odata/SCWM/SIMPLE_INB_PO_SRV/DLVHeadSet(InboundDeliveryUUID=guid'fa163e3c-6395-1eeb-a6a2-7fce29d04d47',WarehouseNumber='')/POItems\"}}}]}}\n"
     ]
    },
    {
     "data": {
      "text/plain": [
       "{'d': {'results': [{'__metadata': {'id': \"http://cc-45b4dscm.c.na-us-2.cloud.sap:8080/sap/opu/odata/SCWM/SIMPLE_INB_PO_SRV/DLVHeadSet(InboundDeliveryUUID=guid'fa163e3c-6395-1eeb-a6a2-7fce29d04d47',WarehouseNumber='')\",\n",
       "     'uri': \"http://cc-45b4dscm.c.na-us-2.cloud.sap:8080/sap/opu/odata/SCWM/SIMPLE_INB_PO_SRV/DLVHeadSet(InboundDeliveryUUID=guid'fa163e3c-6395-1eeb-a6a2-7fce29d04d47',WarehouseNumber='')\",\n",
       "     'type': 'SIMPLE_INB_PO_SRV.DLVHead'},\n",
       "    'BSKeyASN': '',\n",
       "    'BSKeyPO': 'DSC_200',\n",
       "    'Carrier': '',\n",
       "    'CarrierName': '',\n",
       "    'DocNoASN': '',\n",
       "    'DocNoPO': '4500000010',\n",
       "    'BSKeyERP': 'DSC_200',\n",
       "    'DocNoERP': '180000027',\n",
       "    'GoodsReceiptStatus': '1',\n",
       "    'GoodsReceiptStatusText': 'Not Started',\n",
       "    'InboundDelivery': '61',\n",
       "    'InboundDeliveryType': 'INB',\n",
       "    'InboundDeliveryUUID': 'fa163e3c-6395-1eeb-a6a2-7fce29d04d47',\n",
       "    'NumberOfItems': 1,\n",
       "    'NumberOfPODocuments': 1,\n",
       "    'PlannedDeliveryEndDate': '/Date(1617926400000)/',\n",
       "    'ShipFromParty': 'EWM17-SU01',\n",
       "    'ShipFromPartyName': 'EWM Supplier 01',\n",
       "    'WarehouseNumber': '',\n",
       "    'POItems': {'__deferred': {'uri': \"http://cc-45b4dscm.c.na-us-2.cloud.sap:8080/sap/opu/odata/SCWM/SIMPLE_INB_PO_SRV/DLVHeadSet(InboundDeliveryUUID=guid'fa163e3c-6395-1eeb-a6a2-7fce29d04d47',WarehouseNumber='')/POItems\"}}}]}}"
      ]
     },
     "execution_count": 6,
     "metadata": {},
     "output_type": "execute_result"
    }
   ],
   "source": [
    "import requests\n",
    "import json\n",
    "from requests.auth import HTTPBasicAuth\n",
    "api_url = \"http://cc-45b4dscm.c.na-us-2.cloud.sap:8080/sap/opu/odata/SCWM/SIMPLE_INB_PO_SRV/POHeadSet(BSKeyPO='DSC_200',DocNoPO='4500000010',PlannedDeliveryEndDate=datetime'2021-03-29T00%3A00%3A00',WarehouseNumber='1710')/Deliveries/?$format=json&sap-client=200\"\n",
    "response = requests.get(api_url,auth=HTTPBasicAuth('I310202', 'DSCCLNT2001'))\n",
    "## Parsing Json to Dictionary\n",
    "#response.headers[\"Content-Type\"]\n",
    "print(\"\\n\",response.json())\n",
    "response.json()"
   ]
  },
  {
   "cell_type": "code",
   "execution_count": 8,
   "metadata": {},
   "outputs": [
    {
     "name": "stdout",
     "output_type": "stream",
     "text": [
      "Speech synthesized to speaker for text [హలో బావా, ఎలా ఉన్నావు? మీరు ఎక్కడ ఉన్నారు?]\n"
     ]
    }
   ],
   "source": [
    "class T2S:\n",
    "    def detection_to_speaker(self,text):    \n",
    "    # create the auto detection language configuration without specific languages\n",
    "        auto_detect_source_language_config = speech_sdk.languageconfig.AutoDetectSourceLanguageConfig()\n",
    "        speech_synthesizer = speech_sdk.SpeechSynthesizer( speech_config=speech_config, auto_detect_source_language_config=auto_detect_source_language_config)\n",
    "        result = speech_synthesizer.speak_text_async(text).get()        \n",
    "        # Check result\n",
    "\n",
    "        if result.reason == speech_sdk.ResultReason.SynthesizingAudioCompleted:\n",
    "            print(\"Speech synthesized to speaker for text [{}]\".format(text))\n",
    "            stream = speech_sdk.AudioDataStream(result)\n",
    "            stream.save_to_wav_file(r\"C:\\05.TexttoSpeech\\output.wav\")\n",
    "\n",
    "read_text = \"హలో బావా, ఎలా ఉన్నావు? మీరు ఎక్కడ ఉన్నారు?\"\n",
    "obj_t2s = T2S()\n",
    "obj_t2s.detection_to_speaker(read_text)"
   ]
  }
 ],
 "metadata": {
  "kernelspec": {
   "display_name": "Python 3",
   "language": "python",
   "name": "python3"
  },
  "language_info": {
   "codemirror_mode": {
    "name": "ipython",
    "version": 3
   },
   "file_extension": ".py",
   "mimetype": "text/x-python",
   "name": "python",
   "nbconvert_exporter": "python",
   "pygments_lexer": "ipython3",
   "version": "3.10.11"
  },
  "orig_nbformat": 4
 },
 "nbformat": 4,
 "nbformat_minor": 2
}
