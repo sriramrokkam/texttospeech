{
 "cells": [
  {
   "attachments": {},
   "cell_type": "markdown",
   "metadata": {},
   "source": [
    "Proof of Concept: Voice Assistant with Cognitive AI to help complete Warehouse Operations."
   ]
  },
  {
   "attachments": {},
   "cell_type": "markdown",
   "metadata": {},
   "source": [
    "Business Requirement:  \n",
    "1.  Get the input from User over microphone, to Text and interface with SAP EWM as input.\n",
    "2.  Voice request for  inputs and promots for Error for user corrections.\n",
    "3.  Train the AI model with L1/L2 Support, assisting the opertors \n",
    "    on realtime exception handling and workarounds."
   ]
  },
  {
   "attachments": {},
   "cell_type": "markdown",
   "metadata": {},
   "source": [
    "Developer           :   ROKKAMS(s.rokkam@sap.com).\n",
    "GitReposit         :   https://github.com/sriramrokkam/texttospeech"
   ]
  },
  {
   "attachments": {},
   "cell_type": "markdown",
   "metadata": {},
   "source": [
    "# Backend Technologies:  \n",
    "   1. Azure -Cognitive AI      for NLP Services\n",
    "   2. SAP S4 Embedded EWM 9.3   for Warehouse Operations.\n",
    "   3. SAP ABAP                  for Server Side Validation.\n",
    "    4. Python 3.3               for Client Side Validations\n",
    "#Integration Technologies:\n",
    "   1.Azure Event Hub\n",
    "   2.SAP ABAP Webhooks\n",
    "   3.Restful API's. \n",
    "                    \n",
    "#Frontend Technologies:\n",
    "   1. SAP AppGyver\n",
    "   2. Django / CSS / JS"
   ]
  },
  {
   "cell_type": "code",
   "execution_count": 69,
   "metadata": {},
   "outputs": [],
   "source": [
    "\n",
    "# Import namespaces\n",
    "from dotenv import load_dotenv\n",
    "from datetime import datetime\n",
    "import os\n",
    "import azure.cognitiveservices.speech as speech_sdk"
   ]
  },
  {
   "cell_type": "code",
   "execution_count": 70,
   "metadata": {},
   "outputs": [
    {
     "name": "stdout",
     "output_type": "stream",
     "text": [
      "37d48b0c67b74a87b7eb5ad2b788c335\n"
     ]
    }
   ],
   "source": [
    "# Get Configuration Settings\n",
    "load_dotenv()\n",
    "GV_COGKEY = os.getenv('COG_SERVICE_KEY')\n",
    "GV_COGREG = os.getenv('COG_SERVICE_REGION')\n",
    "print(GV_COGKEY)"
   ]
  },
  {
   "cell_type": "code",
   "execution_count": 71,
   "metadata": {
    "tags": [
     "S2T"
    ]
   },
   "outputs": [
    {
     "name": "stdout",
     "output_type": "stream",
     "text": [
      "Speak now...\n",
      "Hello, Hello, Megastar.\n"
     ]
    }
   ],
   "source": [
    "# New class for Speech to Text\n",
    "class S2T:\n",
    "    def __init__(self, GV_COGKEY, GV_COGREG):\n",
    "    # Configure speech service\n",
    "        global speech_config\n",
    "        speech_config = speech_sdk.SpeechConfig(GV_COGKEY, GV_COGREG)\n",
    "        print('Ready to use speech service in:', speech_config.region)\n",
    "\n",
    "    def TranscribeCommand(self):\n",
    "        command = ''\n",
    "\n",
    "    # automatic language detection.\n",
    "    auto_detect_source_language_config = speech_sdk.languageconfig.AutoDetectSourceLanguageConfig()\n",
    "    # Configure speech recognition\n",
    "    audio_config = speech_sdk.AudioConfig(use_default_microphone=True)\n",
    "    speech_recognizer = speech_sdk.SpeechRecognizer(\n",
    "        speech_config, audio_config)\n",
    "    print('Speak now...')\n",
    "\n",
    "    # Process speech input\n",
    "    speech = speech_recognizer.recognize_once_async().get()\n",
    "    if speech.reason == speech_sdk.ResultReason.RecognizedSpeech:\n",
    "        command = speech.text\n",
    "        print(command)\n",
    "    else:\n",
    "        print(speech.reason)\n",
    "    if speech.reason == speech_sdk.ResultReason.Canceled:\n",
    "        cancellation = speech.cancellation_details\n",
    "        print(cancellation.reason)\n",
    "        print(cancellation.error_details)     \n"
   ]
  },
  {
   "cell_type": "code",
   "execution_count": 72,
   "metadata": {},
   "outputs": [
    {
     "name": "stdout",
     "output_type": "stream",
     "text": [
      "Ready to use speech service in: eastasia\n",
      "Ready to use speech service in: eastasia\n"
     ]
    }
   ],
   "source": [
    "    \n",
    "obj_s2t = S2T(GV_COGKEY, GV_COGREG)\n",
    "print('Ready to use speech service in:', speech_config.region)\n",
    "obj_s2t.TranscribeCommand()"
   ]
  }
 ],
 "metadata": {
  "kernelspec": {
   "display_name": "Python 3",
   "language": "python",
   "name": "python3"
  },
  "language_info": {
   "codemirror_mode": {
    "name": "ipython",
    "version": 3
   },
   "file_extension": ".py",
   "mimetype": "text/x-python",
   "name": "python",
   "nbconvert_exporter": "python",
   "pygments_lexer": "ipython3",
   "version": "3.10.11"
  },
  "orig_nbformat": 4
 },
 "nbformat": 4,
 "nbformat_minor": 2
}
