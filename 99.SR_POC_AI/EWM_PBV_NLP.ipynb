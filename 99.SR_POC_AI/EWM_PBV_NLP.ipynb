{
 "cells": [
  {
   "attachments": {},
   "cell_type": "markdown",
   "metadata": {},
   "source": [
    "Proof of Concept: Voice Assistant with Cognitive AI to help complete Warehouse Operations."
   ]
  },
  {
   "attachments": {},
   "cell_type": "markdown",
   "metadata": {},
   "source": [
    "Business Requirement:  \n",
    "1.  Get the input from User over microphone, to Text and interface with SAP EWM as input.\n",
    "2.  Voice request for  inputs and promots for Error for user corrections.\n",
    "3.  Train the AI model with L1/L2 Support, assisting the opertors \n",
    "    on realtime exception handling and workarounds."
   ]
  },
  {
   "attachments": {},
   "cell_type": "markdown",
   "metadata": {},
   "source": [
    "Developer           :   ROKKAMS(s.rokkam@sap.com).\n",
    "GitReposit         :   https://github.com/sriramrokkam/texttospeech"
   ]
  },
  {
   "attachments": {},
   "cell_type": "markdown",
   "metadata": {},
   "source": [
    "# Backend Technologies:  \n",
    "   1. Azure -Cognitive AI      for NLP Services\n",
    "   2. SAP S4 Embedded EWM 9.3   for Warehouse Operations.\n",
    "   3. SAP ABAP                  for Server Side Validation.\n",
    "    4. Python 3.3               for Client Side Validations\n",
    "#Integration Technologies:\n",
    "   1.Azure Event Hub\n",
    "   2.SAP ABAP Webhooks\n",
    "   3.Restful API's. \n",
    "                    \n",
    "#Frontend Technologies:\n",
    "   1. SAP AppGyver\n",
    "   2. Django / CSS / JS"
   ]
  },
  {
   "cell_type": "code",
   "execution_count": 9,
   "metadata": {},
   "outputs": [],
   "source": [
    "# Import namespaces\n",
    "from dotenv import load_dotenv\n",
    "from datetime import datetime\n",
    "import os\n",
    "import azure.cognitiveservices.speech as speech_sdk"
   ]
  },
  {
   "cell_type": "code",
   "execution_count": 10,
   "metadata": {},
   "outputs": [],
   "source": [
    "# Get Configuration Settings\n",
    "load_dotenv()\n",
    "GV_COGKEY = os.getenv('COG_SERVICE_KEY')\n",
    "GV_COGREG = os.getenv('COG_SERVICE_REGION')"
   ]
  },
  {
   "cell_type": "code",
   "execution_count": 11,
   "metadata": {
    "tags": [
     "S2T"
    ]
   },
   "outputs": [
    {
     "name": "stdout",
     "output_type": "stream",
     "text": [
      "Ready to use speech service in: eastasia\n"
     ]
    }
   ],
   "source": [
    "#New Class for initiating Speech_Config\n",
    "class get_speech:\n",
    "    def __init__(self, GV_COGKEY, GV_COGREG):\n",
    "    # Configure speech service\n",
    "        global speech_config\n",
    "    speech_config = speech_sdk.SpeechConfig(GV_COGKEY, GV_COGREG)\n",
    "    print('Ready to use speech service in:', speech_config.region)\n",
    "\n",
    "obj_getsp = get_speech(GV_COGKEY, GV_COGREG)"
   ]
  },
  {
   "cell_type": "code",
   "execution_count": 15,
   "metadata": {},
   "outputs": [
    {
     "name": "stdout",
     "output_type": "stream",
     "text": [
      "Speak now...\n",
      "Hello. Hello. Hello.\n"
     ]
    }
   ],
   "source": [
    "# Transcribe\n",
    "class S2T:\n",
    "    def TranscribeCommand(self):\n",
    "       global command\n",
    "    # automatic language detection.\n",
    "    auto_detect_source_language_config = speech_sdk.languageconfig.AutoDetectSourceLanguageConfig()\n",
    "    # Configure speech recognition\n",
    "    audio_config = speech_sdk.AudioConfig(use_default_microphone=True)\n",
    "    speech_recognizer = speech_sdk.SpeechRecognizer(obj_getsp.speech_config, audio_config)\n",
    "    print('Speak now...')\n",
    "\n",
    "    # Process speech input\n",
    "    speech = speech_recognizer.recognize_once_async().get()\n",
    "    if speech.reason == speech_sdk.ResultReason.RecognizedSpeech:\n",
    "        command = speech.text\n",
    "        print(command)\n",
    "    else:\n",
    "        print(speech.reason)\n",
    "    if speech.reason == speech_sdk.ResultReason.Canceled:\n",
    "        cancellation = speech.cancellation_details\n",
    "        print(cancellation.reason)\n",
    "        print(cancellation.error_details)     \n",
    "\n",
    "obj_s2t = S2T()\n",
    "obj_s2t.TranscribeCommand()"
   ]
  },
  {
   "cell_type": "code",
   "execution_count": 28,
   "metadata": {},
   "outputs": [
    {
     "name": "stdout",
     "output_type": "stream",
     "text": [
      "<azure.cognitiveservices.speech.languageconfig.AutoDetectSourceLanguageConfig object at 0x00000297E4C625F0>\n",
      "SpeechSynthesisResult(result_id=29ad235c84c549a48da08acfcc69db53, reason=ResultReason.SynthesizingAudioCompleted, audio_length=139246)\n",
      "Speech synthesized to speaker for text [Hello World !]\n"
     ]
    },
    {
     "ename": "RuntimeError",
     "evalue": "Exception with error code: \n[CALL STACK BEGIN]\n\n    > pal_string_to_wstring\n    - pal_string_to_wstring\n    - audio_data_stream_save_to_wave_file\n    - ffi_prep_go_closure\n    - ffi_call_go\n    - ffi_call\n    - 00007FFA8BD82C35 (SymFromAddr() error: Attempt to access invalid address.)\n    - 00007FFA8BD829B7 (SymFromAddr() error: Attempt to access invalid address.)\n    - 00007FFA8BD82628 (SymFromAddr() error: Attempt to access invalid address.)\n    - PyObject_Call\n    - PyEval_EvalFrameDefault\n    - PyFunction_Vectorcall\n    - PyVectorcall_Call\n    - PyObject_Call\n    - PyEval_EvalFrameDefault\n    - PyFunction_Vectorcall\n\n[CALL STACK END]\n\nException with an error code: 0x8 (SPXERR_FILE_OPEN_FAILED)",
     "output_type": "error",
     "traceback": [
      "\u001b[1;31m---------------------------------------------------------------------------\u001b[0m",
      "\u001b[1;31mRuntimeError\u001b[0m                              Traceback (most recent call last)",
      "Cell \u001b[1;32mIn[28], line 24\u001b[0m\n\u001b[0;32m     22\u001b[0m \u001b[39m#read_text = obj_s2t.command\u001b[39;00m\n\u001b[0;32m     23\u001b[0m obj_t2s \u001b[39m=\u001b[39m T2S()\n\u001b[1;32m---> 24\u001b[0m obj_t2s\u001b[39m.\u001b[39;49mdetect_language(read_text)     \n",
      "Cell \u001b[1;32mIn[28], line 17\u001b[0m, in \u001b[0;36mT2S.detect_language\u001b[1;34m(self, text)\u001b[0m\n\u001b[0;32m     15\u001b[0m     \u001b[39mprint\u001b[39m(\u001b[39m\"\u001b[39m\u001b[39mSpeech synthesized to speaker for text [\u001b[39m\u001b[39m{}\u001b[39;00m\u001b[39m]\u001b[39m\u001b[39m\"\u001b[39m\u001b[39m.\u001b[39mformat(text))\n\u001b[0;32m     16\u001b[0m stream \u001b[39m=\u001b[39m speech_sdk\u001b[39m.\u001b[39mAudioDataStream(result)\n\u001b[1;32m---> 17\u001b[0m stream\u001b[39m.\u001b[39;49msave_to_wav_file(\u001b[39mr\u001b[39;49m\u001b[39m\"\u001b[39;49m\u001b[39mC:\u001b[39;49m\u001b[39m\\\u001b[39;49m\u001b[39m05.TexttoSpeech\u001b[39;49m\u001b[39m\\\u001b[39;49m\u001b[39moutput.wav\u001b[39;49m\u001b[39m\"\u001b[39;49m)\n",
      "File \u001b[1;32m~\\AppData\\Local\\Packages\\PythonSoftwareFoundation.Python.3.10_qbz5n2kfra8p0\\LocalCache\\local-packages\\Python310\\site-packages\\azure\\cognitiveservices\\speech\\speech.py:2081\u001b[0m, in \u001b[0;36mAudioDataStream.save_to_wav_file\u001b[1;34m(self, file_name)\u001b[0m\n\u001b[0;32m   2079\u001b[0m     \u001b[39mraise\u001b[39;00m \u001b[39mValueError\u001b[39;00m(\u001b[39m'\u001b[39m\u001b[39mfile_name must be a str, is \u001b[39m\u001b[39m\"\u001b[39m\u001b[39m{}\u001b[39;00m\u001b[39m\"\u001b[39m\u001b[39m'\u001b[39m\u001b[39m.\u001b[39mformat(file_name))\n\u001b[0;32m   2080\u001b[0m c_file \u001b[39m=\u001b[39m _c_str(file_name)\n\u001b[1;32m-> 2081\u001b[0m _call_hr_fn(fn\u001b[39m=\u001b[39;49m_sdk_lib\u001b[39m.\u001b[39;49maudio_data_stream_save_to_wave_file, \u001b[39m*\u001b[39;49m[\u001b[39mself\u001b[39;49m\u001b[39m.\u001b[39;49m_handle, c_file])\n",
      "File \u001b[1;32m~\\AppData\\Local\\Packages\\PythonSoftwareFoundation.Python.3.10_qbz5n2kfra8p0\\LocalCache\\local-packages\\Python310\\site-packages\\azure\\cognitiveservices\\speech\\interop.py:62\u001b[0m, in \u001b[0;36m_call_hr_fn\u001b[1;34m(fn, *args)\u001b[0m\n\u001b[0;32m     60\u001b[0m fn\u001b[39m.\u001b[39mrestype \u001b[39m=\u001b[39m _spx_hr\n\u001b[0;32m     61\u001b[0m hr \u001b[39m=\u001b[39m fn(\u001b[39m*\u001b[39margs) \u001b[39mif\u001b[39;00m \u001b[39mlen\u001b[39m(args) \u001b[39m>\u001b[39m \u001b[39m0\u001b[39m \u001b[39melse\u001b[39;00m fn()\n\u001b[1;32m---> 62\u001b[0m _raise_if_failed(hr)\n",
      "File \u001b[1;32m~\\AppData\\Local\\Packages\\PythonSoftwareFoundation.Python.3.10_qbz5n2kfra8p0\\LocalCache\\local-packages\\Python310\\site-packages\\azure\\cognitiveservices\\speech\\interop.py:55\u001b[0m, in \u001b[0;36m_raise_if_failed\u001b[1;34m(hr)\u001b[0m\n\u001b[0;32m     53\u001b[0m \u001b[39mdef\u001b[39;00m \u001b[39m_raise_if_failed\u001b[39m(hr: _spx_hr):\n\u001b[0;32m     54\u001b[0m     \u001b[39mif\u001b[39;00m hr \u001b[39m!=\u001b[39m \u001b[39m0\u001b[39m:\n\u001b[1;32m---> 55\u001b[0m         __try_get_error(_spx_handle(hr))\n\u001b[0;32m     56\u001b[0m         \u001b[39mraise\u001b[39;00m \u001b[39mRuntimeError\u001b[39;00m(hr)\n",
      "File \u001b[1;32m~\\AppData\\Local\\Packages\\PythonSoftwareFoundation.Python.3.10_qbz5n2kfra8p0\\LocalCache\\local-packages\\Python310\\site-packages\\azure\\cognitiveservices\\speech\\interop.py:50\u001b[0m, in \u001b[0;36m__try_get_error\u001b[1;34m(error_handle)\u001b[0m\n\u001b[0;32m     45\u001b[0m message \u001b[39m=\u001b[39m \u001b[39m\"\u001b[39m\u001b[39mException with error code: \u001b[39m\u001b[39m%s\u001b[39;00m\u001b[39m%s\u001b[39;00m\u001b[39m\"\u001b[39m \u001b[39m%\u001b[39m (\n\u001b[0;32m     46\u001b[0m     callstack \u001b[39mif\u001b[39;00m callstack \u001b[39mis\u001b[39;00m \u001b[39mnot\u001b[39;00m \u001b[39mNone\u001b[39;00m \u001b[39melse\u001b[39;00m \u001b[39m\"\u001b[39m\u001b[39m\"\u001b[39m,\n\u001b[0;32m     47\u001b[0m     what \u001b[39mif\u001b[39;00m what \u001b[39mis\u001b[39;00m \u001b[39mnot\u001b[39;00m \u001b[39mNone\u001b[39;00m \u001b[39melse\u001b[39;00m code\n\u001b[0;32m     48\u001b[0m )\n\u001b[0;32m     49\u001b[0m _sdk_lib\u001b[39m.\u001b[39merror_release(error_handle)\n\u001b[1;32m---> 50\u001b[0m \u001b[39mraise\u001b[39;00m \u001b[39mRuntimeError\u001b[39;00m(message)\n",
      "\u001b[1;31mRuntimeError\u001b[0m: Exception with error code: \n[CALL STACK BEGIN]\n\n    > pal_string_to_wstring\n    - pal_string_to_wstring\n    - audio_data_stream_save_to_wave_file\n    - ffi_prep_go_closure\n    - ffi_call_go\n    - ffi_call\n    - 00007FFA8BD82C35 (SymFromAddr() error: Attempt to access invalid address.)\n    - 00007FFA8BD829B7 (SymFromAddr() error: Attempt to access invalid address.)\n    - 00007FFA8BD82628 (SymFromAddr() error: Attempt to access invalid address.)\n    - PyObject_Call\n    - PyEval_EvalFrameDefault\n    - PyFunction_Vectorcall\n    - PyVectorcall_Call\n    - PyObject_Call\n    - PyEval_EvalFrameDefault\n    - PyFunction_Vectorcall\n\n[CALL STACK END]\n\nException with an error code: 0x8 (SPXERR_FILE_OPEN_FAILED)"
     ]
    }
   ],
   "source": [
    "# New Text to Speech Class.\n",
    "class T2S:\n",
    "    def detect_language(self,text):\n",
    "         # create the auto detection language configuration without specific languages\n",
    "        source_language = speech_sdk.languageconfig.AutoDetectSourceLanguageConfig()\n",
    "        print (source_language)\n",
    "\n",
    "    # Creates a speech synthesizer using the default speaker as audio output.\n",
    "        speech_synthesizer = speech_sdk.SpeechSynthesizer( speech_config=obj_getsp.speech_config, auto_detect_source_language_config=source_language)\n",
    "        result = speech_synthesizer.speak_text_async(obj_s2t.command).get()\n",
    "        print(result)\n",
    "\n",
    "    # Check result\n",
    "        if result.reason == speech_sdk.ResultReason.SynthesizingAudioCompleted:\n",
    "            print(\"Speech synthesized to speaker for text [{}]\".format(text))\n",
    "        stream = speech_sdk.AudioDataStream(result)\n",
    "        stream.save_to_wav_file(r\"C:\\output.wav\")\n",
    "\n",
    "\n",
    "'''read_text = input(\"Enter Text to Read :\")'''\n",
    "read_text = 'Hello World !'\n",
    "#read_text = obj_s2t.command\n",
    "obj_t2s = T2S()\n",
    "obj_t2s.detect_language(read_text)     "
   ]
  }
 ],
 "metadata": {
  "kernelspec": {
   "display_name": "Python 3",
   "language": "python",
   "name": "python3"
  },
  "language_info": {
   "codemirror_mode": {
    "name": "ipython",
    "version": 3
   },
   "file_extension": ".py",
   "mimetype": "text/x-python",
   "name": "python",
   "nbconvert_exporter": "python",
   "pygments_lexer": "ipython3",
   "version": "3.10.11"
  },
  "orig_nbformat": 4
 },
 "nbformat": 4,
 "nbformat_minor": 2
}
